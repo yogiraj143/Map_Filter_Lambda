{
 "cells": [
  {
   "cell_type": "markdown",
   "id": "9d073e95",
   "metadata": {},
   "source": [
    "# Find the way with Maps"
   ]
  },
  {
   "cell_type": "code",
   "execution_count": 3,
   "id": "fb9191fd",
   "metadata": {},
   "outputs": [],
   "source": [
    "sample_list=[1,2,3,4,5,6,7,8,9]\n",
    "def triplet(num):\n",
    "    return num*3\n",
    "final_ans = list(map(triplet,sample_list))"
   ]
  },
  {
   "cell_type": "code",
   "execution_count": 4,
   "id": "f19e816b",
   "metadata": {},
   "outputs": [
    {
     "data": {
      "text/plain": [
       "[3, 6, 9, 12, 15, 18, 21, 24, 27]"
      ]
     },
     "execution_count": 4,
     "metadata": {},
     "output_type": "execute_result"
    }
   ],
   "source": [
    "final_ans"
   ]
  },
  {
   "cell_type": "code",
   "execution_count": null,
   "id": "83136813",
   "metadata": {},
   "outputs": [],
   "source": []
  }
 ],
 "metadata": {
  "kernelspec": {
   "display_name": "Python 3 (ipykernel)",
   "language": "python",
   "name": "python3"
  },
  "language_info": {
   "codemirror_mode": {
    "name": "ipython",
    "version": 3
   },
   "file_extension": ".py",
   "mimetype": "text/x-python",
   "name": "python",
   "nbconvert_exporter": "python",
   "pygments_lexer": "ipython3",
   "version": "3.10.0"
  }
 },
 "nbformat": 4,
 "nbformat_minor": 5
}
