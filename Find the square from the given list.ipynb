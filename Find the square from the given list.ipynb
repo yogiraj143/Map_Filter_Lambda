{
 "cells": [
  {
   "cell_type": "markdown",
   "id": "a1c94526",
   "metadata": {},
   "source": [
    "# Find the square from the given list"
   ]
  },
  {
   "cell_type": "code",
   "execution_count": 2,
   "id": "88da7317",
   "metadata": {},
   "outputs": [],
   "source": [
    "sample_list=[4,5,2,9]\n",
    "def squares(num):\n",
    "    return num**2\n",
    "square_of_the_element_from_list = list(map(squares,sample_list))"
   ]
  },
  {
   "cell_type": "code",
   "execution_count": 3,
   "id": "1fe9c7a0",
   "metadata": {},
   "outputs": [
    {
     "data": {
      "text/plain": [
       "[16, 25, 4, 81]"
      ]
     },
     "execution_count": 3,
     "metadata": {},
     "output_type": "execute_result"
    }
   ],
   "source": [
    "square_of_the_element_from_list"
   ]
  },
  {
   "cell_type": "code",
   "execution_count": null,
   "id": "7fc6650a",
   "metadata": {},
   "outputs": [],
   "source": []
  }
 ],
 "metadata": {
  "kernelspec": {
   "display_name": "Python 3 (ipykernel)",
   "language": "python",
   "name": "python3"
  },
  "language_info": {
   "codemirror_mode": {
    "name": "ipython",
    "version": 3
   },
   "file_extension": ".py",
   "mimetype": "text/x-python",
   "name": "python",
   "nbconvert_exporter": "python",
   "pygments_lexer": "ipython3",
   "version": "3.10.0"
  }
 },
 "nbformat": 4,
 "nbformat_minor": 5
}
