{
 "cells": [
  {
   "cell_type": "markdown",
   "id": "4e79f604",
   "metadata": {},
   "source": [
    "# Play with Lambda"
   ]
  },
  {
   "cell_type": "code",
   "execution_count": 1,
   "id": "5939472f",
   "metadata": {},
   "outputs": [],
   "source": [
    "c = [1, 2, 3, 4, 5, 6, 7, 8, 9, 10]\n",
    "cube = list(map(lambda x:x**3,c))"
   ]
  },
  {
   "cell_type": "code",
   "execution_count": 2,
   "id": "4f59e513",
   "metadata": {},
   "outputs": [
    {
     "data": {
      "text/plain": [
       "[1, 8, 27, 64, 125, 216, 343, 512, 729, 1000]"
      ]
     },
     "execution_count": 2,
     "metadata": {},
     "output_type": "execute_result"
    }
   ],
   "source": [
    "cube"
   ]
  },
  {
   "cell_type": "code",
   "execution_count": null,
   "id": "e5e76695",
   "metadata": {},
   "outputs": [],
   "source": []
  }
 ],
 "metadata": {
  "kernelspec": {
   "display_name": "Python 3 (ipykernel)",
   "language": "python",
   "name": "python3"
  },
  "language_info": {
   "codemirror_mode": {
    "name": "ipython",
    "version": 3
   },
   "file_extension": ".py",
   "mimetype": "text/x-python",
   "name": "python",
   "nbconvert_exporter": "python",
   "pygments_lexer": "ipython3",
   "version": "3.10.0"
  }
 },
 "nbformat": 4,
 "nbformat_minor": 5
}
